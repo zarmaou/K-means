import pandas as pd
from kmodes.kmodes import KModes
import matplotlib.pyplot as plt
import seaborn as sns

df = pd.read_csv('netflix_synthetic_data.csv')

cluster_data = df[['Subscription Type', 'Monthly Revenue', 'Country', 'Age', 'Gender', 'Device']]
cluster_data['Monthly Revenue'] = cluster_data['Monthly Revenue'].astype('category')

k = 8
kmodes = KModes(n_clusters=k, init='Huang', n_init=5, random_state=42)
clusters = kmodes.fit_predict(cluster_data)
df['Cluster'] = clusters

for i in range(k):
    cluster = df[df['Cluster'] == i]
    print(f"\nCluster {i} (n={len(cluster)}):")
    print(f"  - Usia Rata-rata: {cluster['Age'].mean():.1f}")
    print(f"  - Gender: {cluster['Gender'].mode()[0]} ({cluster['Gender'].value_counts(normalize=True).iloc[0]*100:.1f}%)")
    print(f"  - Negara: {cluster['Country'].mode()[0]}")
    print(f"  - Device: {cluster['Device'].mode()[0]}")
    print(f"  - Subscription: {cluster['Subscription Type'].mode()[0]}")
