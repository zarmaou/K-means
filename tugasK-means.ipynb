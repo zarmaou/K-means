{
 "cells": [
  {
   "cell_type": "code",
   "execution_count": 6,
   "id": "dab1138a",
   "metadata": {},
   "outputs": [
    {
     "name": "stderr",
     "output_type": "stream",
     "text": [
      "/tmp/ipykernel_3437/3411688261.py:12: SettingWithCopyWarning: \n",
      "A value is trying to be set on a copy of a slice from a DataFrame.\n",
      "Try using .loc[row_indexer,col_indexer] = value instead\n",
      "\n",
      "See the caveats in the documentation: https://pandas.pydata.org/pandas-docs/stable/user_guide/indexing.html#returning-a-view-versus-a-copy\n",
      "  cluster_data['Monthly Revenue'] = cluster_data['Monthly Revenue'].astype('category')\n"
     ]
    },
    {
     "name": "stdout",
     "output_type": "stream",
     "text": [
      "\n",
      "Cluster 0 (n=180):\n",
      "  - Usia Rata-rata: 41.2\n",
      "  - Gender: Male (86.1%)\n",
      "  - Negara: Canada\n",
      "  - Device: Tablet\n",
      "  - Subscription: Basic\n",
      "\n",
      "Cluster 1 (n=164):\n",
      "  - Usia Rata-rata: 41.1\n",
      "  - Gender: Male (84.1%)\n",
      "  - Negara: Canada\n",
      "  - Device: Smartphone\n",
      "  - Subscription: Premium\n",
      "\n",
      "Cluster 2 (n=205):\n",
      "  - Usia Rata-rata: 41.8\n",
      "  - Gender: Female (78.0%)\n",
      "  - Negara: United States\n",
      "  - Device: Smartphone\n",
      "  - Subscription: Standard\n",
      "\n",
      "Cluster 3 (n=103):\n",
      "  - Usia Rata-rata: 40.0\n",
      "  - Gender: Male (87.4%)\n",
      "  - Negara: United States\n",
      "  - Device: Laptop\n",
      "  - Subscription: Premium\n",
      "\n",
      "Cluster 4 (n=114):\n",
      "  - Usia Rata-rata: 40.3\n",
      "  - Gender: Female (76.3%)\n",
      "  - Negara: United States\n",
      "  - Device: Smartphone\n",
      "  - Subscription: Basic\n",
      "\n",
      "Cluster 5 (n=133):\n",
      "  - Usia Rata-rata: 40.0\n",
      "  - Gender: Male (99.2%)\n",
      "  - Negara: United States\n",
      "  - Device: Smartphone\n",
      "  - Subscription: Basic\n",
      "\n",
      "Cluster 6 (n=35):\n",
      "  - Usia Rata-rata: 43.8\n",
      "  - Gender: Male (100.0%)\n",
      "  - Negara: United States\n",
      "  - Device: Laptop\n",
      "  - Subscription: Basic\n",
      "\n",
      "Cluster 7 (n=66):\n",
      "  - Usia Rata-rata: 40.1\n",
      "  - Gender: Female (98.5%)\n",
      "  - Negara: United States\n",
      "  - Device: Laptop\n",
      "  - Subscription: Basic\n"
     ]
    }
   ],
   "source": [
    "# Import library\n",
    "import pandas as pd\n",
    "from kmodes.kmodes import KModes\n",
    "import matplotlib.pyplot as plt\n",
    "import seaborn as sns\n",
    "\n",
    "# 1. Load data sintetis\n",
    "df = pd.read_csv('netflix_synthetic_data.csv')\n",
    "\n",
    "# 2. Preprocessing: Pilih kolom kategorikal\n",
    "cluster_data = df[['Subscription Type', 'Monthly Revenue', 'Country', 'Age', 'Gender', 'Device']]\n",
    "cluster_data['Monthly Revenue'] = cluster_data['Monthly Revenue'].astype('category')\n",
    "\n",
    "\n",
    "# 4. Clustering dengan K-Modes\n",
    "k = 8\n",
    "kmodes = KModes(n_clusters=k, init='Huang', n_init=5, random_state=42)\n",
    "clusters = kmodes.fit_predict(cluster_data)\n",
    "df['Cluster'] = clusters\n",
    "\n",
    "# 5. Analisis Cluster\n",
    "for i in range(k):\n",
    "    cluster = df[df['Cluster'] == i]\n",
    "    print(f\"\\nCluster {i} (n={len(cluster)}):\")\n",
    "    print(f\"  - Usia Rata-rata: {cluster['Age'].mean():.1f}\")\n",
    "    print(f\"  - Gender: {cluster['Gender'].mode()[0]} ({cluster['Gender'].value_counts(normalize=True).iloc[0]*100:.1f}%)\")\n",
    "    print(f\"  - Negara: {cluster['Country'].mode()[0]}\")\n",
    "    print(f\"  - Device: {cluster['Device'].mode()[0]}\")\n",
    "    print(f\"  - Subscription: {cluster['Subscription Type'].mode()[0]}\")\n",
    "  "
   ]
  }
 ],
 "metadata": {
  "kernelspec": {
   "display_name": "myenv",
   "language": "python",
   "name": "python3"
  },
  "language_info": {
   "codemirror_mode": {
    "name": "ipython",
    "version": 3
   },
   "file_extension": ".py",
   "mimetype": "text/x-python",
   "name": "python",
   "nbconvert_exporter": "python",
   "pygments_lexer": "ipython3",
   "version": "3.13.3"
  }
 },
 "nbformat": 4,
 "nbformat_minor": 5
}
